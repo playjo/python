{
 "cells": [
  {
   "cell_type": "markdown",
   "metadata": {},
   "source": [
    "# $$用户消费行为分析$$"
   ]
  },
  {
   "cell_type": "markdown",
   "metadata": {},
   "source": [
    "## 数据基础"
   ]
  },
  {
   "cell_type": "markdown",
   "metadata": {},
   "source": [
    "### 数据导入清理"
   ]
  },
  {
   "cell_type": "markdown",
   "metadata": {},
   "source": [
    "导入相关库*斜体* **粗体** ***斜粗体***  [baidu](http://www.baidu.com)"
   ]
  },
  {
   "cell_type": "code",
   "execution_count": 1,
   "metadata": {},
   "outputs": [],
   "source": [
    "import pandas as pd\n",
    "import numpy as np\n",
    "import matplotlib.pyplot as plt\n",
    "plt.rcParams['font.sans-serif'] = ['Microsoft YaHei']\n",
    "plt.rcParams['axes.unicode_minus'] = False\n",
    "plt.style.use('Solarize_Light2')"
   ]
  },
  {
   "cell_type": "markdown",
   "metadata": {},
   "source": [
    "导入文件CDNOW_master.txt"
   ]
  },
  {
   "cell_type": "code",
   "execution_count": 2,
   "metadata": {},
   "outputs": [],
   "source": [
    "data = pd.read_csv('CDNOW_master.txt',names=['用户ID','购买日期','订单数','金额'],sep='\\s+')"
   ]
  },
  {
   "cell_type": "code",
   "execution_count": 3,
   "metadata": {},
   "outputs": [
    {
     "data": {
      "text/html": [
       "<div>\n",
       "<style scoped>\n",
       "    .dataframe tbody tr th:only-of-type {\n",
       "        vertical-align: middle;\n",
       "    }\n",
       "\n",
       "    .dataframe tbody tr th {\n",
       "        vertical-align: top;\n",
       "    }\n",
       "\n",
       "    .dataframe thead th {\n",
       "        text-align: right;\n",
       "    }\n",
       "</style>\n",
       "<table border=\"1\" class=\"dataframe\">\n",
       "  <thead>\n",
       "    <tr style=\"text-align: right;\">\n",
       "      <th></th>\n",
       "      <th>用户ID</th>\n",
       "      <th>购买日期</th>\n",
       "      <th>订单数</th>\n",
       "      <th>金额</th>\n",
       "    </tr>\n",
       "  </thead>\n",
       "  <tbody>\n",
       "    <tr>\n",
       "      <th>0</th>\n",
       "      <td>1</td>\n",
       "      <td>19970101</td>\n",
       "      <td>1</td>\n",
       "      <td>11.77</td>\n",
       "    </tr>\n",
       "    <tr>\n",
       "      <th>1</th>\n",
       "      <td>2</td>\n",
       "      <td>19970112</td>\n",
       "      <td>1</td>\n",
       "      <td>12.00</td>\n",
       "    </tr>\n",
       "    <tr>\n",
       "      <th>2</th>\n",
       "      <td>2</td>\n",
       "      <td>19970112</td>\n",
       "      <td>5</td>\n",
       "      <td>77.00</td>\n",
       "    </tr>\n",
       "    <tr>\n",
       "      <th>3</th>\n",
       "      <td>3</td>\n",
       "      <td>19970102</td>\n",
       "      <td>2</td>\n",
       "      <td>20.76</td>\n",
       "    </tr>\n",
       "    <tr>\n",
       "      <th>4</th>\n",
       "      <td>3</td>\n",
       "      <td>19970330</td>\n",
       "      <td>2</td>\n",
       "      <td>20.76</td>\n",
       "    </tr>\n",
       "  </tbody>\n",
       "</table>\n",
       "</div>"
      ],
      "text/plain": [
       "   用户ID      购买日期  订单数     金额\n",
       "0     1  19970101    1  11.77\n",
       "1     2  19970112    1  12.00\n",
       "2     2  19970112    5  77.00\n",
       "3     3  19970102    2  20.76\n",
       "4     3  19970330    2  20.76"
      ]
     },
     "execution_count": 3,
     "metadata": {},
     "output_type": "execute_result"
    }
   ],
   "source": [
    "data.head()"
   ]
  },
  {
   "cell_type": "code",
   "execution_count": 4,
   "metadata": {
    "scrolled": true
   },
   "outputs": [
    {
     "data": {
      "text/html": [
       "<div>\n",
       "<style scoped>\n",
       "    .dataframe tbody tr th:only-of-type {\n",
       "        vertical-align: middle;\n",
       "    }\n",
       "\n",
       "    .dataframe tbody tr th {\n",
       "        vertical-align: top;\n",
       "    }\n",
       "\n",
       "    .dataframe thead th {\n",
       "        text-align: right;\n",
       "    }\n",
       "</style>\n",
       "<table border=\"1\" class=\"dataframe\">\n",
       "  <thead>\n",
       "    <tr style=\"text-align: right;\">\n",
       "      <th></th>\n",
       "      <th>用户ID</th>\n",
       "      <th>购买日期</th>\n",
       "      <th>订单数</th>\n",
       "      <th>金额</th>\n",
       "    </tr>\n",
       "  </thead>\n",
       "  <tbody>\n",
       "    <tr>\n",
       "      <th>count</th>\n",
       "      <td>69659.000000</td>\n",
       "      <td>6.965900e+04</td>\n",
       "      <td>69659.000000</td>\n",
       "      <td>69659.000000</td>\n",
       "    </tr>\n",
       "    <tr>\n",
       "      <th>mean</th>\n",
       "      <td>11470.854592</td>\n",
       "      <td>1.997228e+07</td>\n",
       "      <td>2.410040</td>\n",
       "      <td>35.893648</td>\n",
       "    </tr>\n",
       "    <tr>\n",
       "      <th>std</th>\n",
       "      <td>6819.904848</td>\n",
       "      <td>3.837735e+03</td>\n",
       "      <td>2.333924</td>\n",
       "      <td>36.281942</td>\n",
       "    </tr>\n",
       "    <tr>\n",
       "      <th>min</th>\n",
       "      <td>1.000000</td>\n",
       "      <td>1.997010e+07</td>\n",
       "      <td>1.000000</td>\n",
       "      <td>0.000000</td>\n",
       "    </tr>\n",
       "    <tr>\n",
       "      <th>25%</th>\n",
       "      <td>5506.000000</td>\n",
       "      <td>1.997022e+07</td>\n",
       "      <td>1.000000</td>\n",
       "      <td>14.490000</td>\n",
       "    </tr>\n",
       "    <tr>\n",
       "      <th>50%</th>\n",
       "      <td>11410.000000</td>\n",
       "      <td>1.997042e+07</td>\n",
       "      <td>2.000000</td>\n",
       "      <td>25.980000</td>\n",
       "    </tr>\n",
       "    <tr>\n",
       "      <th>75%</th>\n",
       "      <td>17273.000000</td>\n",
       "      <td>1.997111e+07</td>\n",
       "      <td>3.000000</td>\n",
       "      <td>43.700000</td>\n",
       "    </tr>\n",
       "    <tr>\n",
       "      <th>max</th>\n",
       "      <td>23570.000000</td>\n",
       "      <td>1.998063e+07</td>\n",
       "      <td>99.000000</td>\n",
       "      <td>1286.010000</td>\n",
       "    </tr>\n",
       "  </tbody>\n",
       "</table>\n",
       "</div>"
      ],
      "text/plain": [
       "               用户ID          购买日期           订单数            金额\n",
       "count  69659.000000  6.965900e+04  69659.000000  69659.000000\n",
       "mean   11470.854592  1.997228e+07      2.410040     35.893648\n",
       "std     6819.904848  3.837735e+03      2.333924     36.281942\n",
       "min        1.000000  1.997010e+07      1.000000      0.000000\n",
       "25%     5506.000000  1.997022e+07      1.000000     14.490000\n",
       "50%    11410.000000  1.997042e+07      2.000000     25.980000\n",
       "75%    17273.000000  1.997111e+07      3.000000     43.700000\n",
       "max    23570.000000  1.998063e+07     99.000000   1286.010000"
      ]
     },
     "execution_count": 4,
     "metadata": {},
     "output_type": "execute_result"
    }
   ],
   "source": [
    "data.describe()"
   ]
  },
  {
   "cell_type": "code",
   "execution_count": 5,
   "metadata": {},
   "outputs": [
    {
     "data": {
      "text/plain": [
       "用户ID    0\n",
       "购买日期    0\n",
       "订单数     0\n",
       "金额      0\n",
       "dtype: int64"
      ]
     },
     "execution_count": 5,
     "metadata": {},
     "output_type": "execute_result"
    }
   ],
   "source": [
    "data.isnull().sum()"
   ]
  },
  {
   "cell_type": "markdown",
   "metadata": {},
   "source": [
    "日期转换方式，按月统计"
   ]
  },
  {
   "cell_type": "code",
   "execution_count": 6,
   "metadata": {},
   "outputs": [],
   "source": [
    "data_date = pd.to_datetime(data['购买日期'],format='%Y%m%d')\n",
    "data['购买日期'] = data_date\n",
    "data_month = data_date.values.astype('datetime64[M]')"
   ]
  },
  {
   "cell_type": "code",
   "execution_count": 7,
   "metadata": {},
   "outputs": [
    {
     "data": {
      "text/plain": [
       "array(['1997-01', '1997-01', '1997-01', ..., '1997-03', '1997-03',\n",
       "       '1997-03'], dtype='datetime64[M]')"
      ]
     },
     "execution_count": 7,
     "metadata": {},
     "output_type": "execute_result"
    }
   ],
   "source": [
    "data_month"
   ]
  },
  {
   "cell_type": "code",
   "execution_count": 8,
   "metadata": {},
   "outputs": [],
   "source": [
    "data['月份'] = data_month"
   ]
  },
  {
   "cell_type": "code",
   "execution_count": 9,
   "metadata": {},
   "outputs": [
    {
     "data": {
      "text/html": [
       "<div>\n",
       "<style scoped>\n",
       "    .dataframe tbody tr th:only-of-type {\n",
       "        vertical-align: middle;\n",
       "    }\n",
       "\n",
       "    .dataframe tbody tr th {\n",
       "        vertical-align: top;\n",
       "    }\n",
       "\n",
       "    .dataframe thead th {\n",
       "        text-align: right;\n",
       "    }\n",
       "</style>\n",
       "<table border=\"1\" class=\"dataframe\">\n",
       "  <thead>\n",
       "    <tr style=\"text-align: right;\">\n",
       "      <th></th>\n",
       "      <th>用户ID</th>\n",
       "      <th>购买日期</th>\n",
       "      <th>订单数</th>\n",
       "      <th>金额</th>\n",
       "      <th>月份</th>\n",
       "    </tr>\n",
       "  </thead>\n",
       "  <tbody>\n",
       "    <tr>\n",
       "      <th>0</th>\n",
       "      <td>1</td>\n",
       "      <td>1997-01-01</td>\n",
       "      <td>1</td>\n",
       "      <td>11.77</td>\n",
       "      <td>1997-01-01</td>\n",
       "    </tr>\n",
       "    <tr>\n",
       "      <th>1</th>\n",
       "      <td>2</td>\n",
       "      <td>1997-01-12</td>\n",
       "      <td>1</td>\n",
       "      <td>12.00</td>\n",
       "      <td>1997-01-01</td>\n",
       "    </tr>\n",
       "    <tr>\n",
       "      <th>2</th>\n",
       "      <td>2</td>\n",
       "      <td>1997-01-12</td>\n",
       "      <td>5</td>\n",
       "      <td>77.00</td>\n",
       "      <td>1997-01-01</td>\n",
       "    </tr>\n",
       "    <tr>\n",
       "      <th>3</th>\n",
       "      <td>3</td>\n",
       "      <td>1997-01-02</td>\n",
       "      <td>2</td>\n",
       "      <td>20.76</td>\n",
       "      <td>1997-01-01</td>\n",
       "    </tr>\n",
       "    <tr>\n",
       "      <th>4</th>\n",
       "      <td>3</td>\n",
       "      <td>1997-03-30</td>\n",
       "      <td>2</td>\n",
       "      <td>20.76</td>\n",
       "      <td>1997-03-01</td>\n",
       "    </tr>\n",
       "    <tr>\n",
       "      <th>...</th>\n",
       "      <td>...</td>\n",
       "      <td>...</td>\n",
       "      <td>...</td>\n",
       "      <td>...</td>\n",
       "      <td>...</td>\n",
       "    </tr>\n",
       "    <tr>\n",
       "      <th>69654</th>\n",
       "      <td>23568</td>\n",
       "      <td>1997-04-05</td>\n",
       "      <td>4</td>\n",
       "      <td>83.74</td>\n",
       "      <td>1997-04-01</td>\n",
       "    </tr>\n",
       "    <tr>\n",
       "      <th>69655</th>\n",
       "      <td>23568</td>\n",
       "      <td>1997-04-22</td>\n",
       "      <td>1</td>\n",
       "      <td>14.99</td>\n",
       "      <td>1997-04-01</td>\n",
       "    </tr>\n",
       "    <tr>\n",
       "      <th>69656</th>\n",
       "      <td>23569</td>\n",
       "      <td>1997-03-25</td>\n",
       "      <td>2</td>\n",
       "      <td>25.74</td>\n",
       "      <td>1997-03-01</td>\n",
       "    </tr>\n",
       "    <tr>\n",
       "      <th>69657</th>\n",
       "      <td>23570</td>\n",
       "      <td>1997-03-25</td>\n",
       "      <td>3</td>\n",
       "      <td>51.12</td>\n",
       "      <td>1997-03-01</td>\n",
       "    </tr>\n",
       "    <tr>\n",
       "      <th>69658</th>\n",
       "      <td>23570</td>\n",
       "      <td>1997-03-26</td>\n",
       "      <td>2</td>\n",
       "      <td>42.96</td>\n",
       "      <td>1997-03-01</td>\n",
       "    </tr>\n",
       "  </tbody>\n",
       "</table>\n",
       "<p>69659 rows × 5 columns</p>\n",
       "</div>"
      ],
      "text/plain": [
       "        用户ID       购买日期  订单数     金额         月份\n",
       "0          1 1997-01-01    1  11.77 1997-01-01\n",
       "1          2 1997-01-12    1  12.00 1997-01-01\n",
       "2          2 1997-01-12    5  77.00 1997-01-01\n",
       "3          3 1997-01-02    2  20.76 1997-01-01\n",
       "4          3 1997-03-30    2  20.76 1997-03-01\n",
       "...      ...        ...  ...    ...        ...\n",
       "69654  23568 1997-04-05    4  83.74 1997-04-01\n",
       "69655  23568 1997-04-22    1  14.99 1997-04-01\n",
       "69656  23569 1997-03-25    2  25.74 1997-03-01\n",
       "69657  23570 1997-03-25    3  51.12 1997-03-01\n",
       "69658  23570 1997-03-26    2  42.96 1997-03-01\n",
       "\n",
       "[69659 rows x 5 columns]"
      ]
     },
     "execution_count": 9,
     "metadata": {},
     "output_type": "execute_result"
    }
   ],
   "source": [
    "data"
   ]
  },
  {
   "cell_type": "markdown",
   "metadata": {},
   "source": [
    "用户总计趋势消费分析"
   ]
  },
  {
   "cell_type": "markdown",
   "metadata": {},
   "source": [
    "聚合处理，按月进行聚合统计,用户数量，订单数和金额"
   ]
  },
  {
   "cell_type": "code",
   "execution_count": 10,
   "metadata": {},
   "outputs": [],
   "source": [
    "data_pivot = data.pivot_table(index='月份',\n",
    "                 values=['用户ID','订单数','金额'],\n",
    "                 aggfunc={\n",
    "                     '用户ID':'count',\n",
    "                     '订单数':'sum',\n",
    "                     '金额':'sum'\n",
    "                 })"
   ]
  },
  {
   "cell_type": "code",
   "execution_count": 11,
   "metadata": {},
   "outputs": [
    {
     "data": {
      "text/html": [
       "<div>\n",
       "<style scoped>\n",
       "    .dataframe tbody tr th:only-of-type {\n",
       "        vertical-align: middle;\n",
       "    }\n",
       "\n",
       "    .dataframe tbody tr th {\n",
       "        vertical-align: top;\n",
       "    }\n",
       "\n",
       "    .dataframe thead th {\n",
       "        text-align: right;\n",
       "    }\n",
       "</style>\n",
       "<table border=\"1\" class=\"dataframe\">\n",
       "  <thead>\n",
       "    <tr style=\"text-align: right;\">\n",
       "      <th></th>\n",
       "      <th>用户ID</th>\n",
       "      <th>订单数</th>\n",
       "      <th>金额</th>\n",
       "    </tr>\n",
       "    <tr>\n",
       "      <th>月份</th>\n",
       "      <th></th>\n",
       "      <th></th>\n",
       "      <th></th>\n",
       "    </tr>\n",
       "  </thead>\n",
       "  <tbody>\n",
       "    <tr>\n",
       "      <th>1997-01-01</th>\n",
       "      <td>8928</td>\n",
       "      <td>19416</td>\n",
       "      <td>299060.17</td>\n",
       "    </tr>\n",
       "    <tr>\n",
       "      <th>1997-02-01</th>\n",
       "      <td>11272</td>\n",
       "      <td>24921</td>\n",
       "      <td>379590.03</td>\n",
       "    </tr>\n",
       "    <tr>\n",
       "      <th>1997-03-01</th>\n",
       "      <td>11598</td>\n",
       "      <td>26159</td>\n",
       "      <td>393155.27</td>\n",
       "    </tr>\n",
       "    <tr>\n",
       "      <th>1997-04-01</th>\n",
       "      <td>3781</td>\n",
       "      <td>9729</td>\n",
       "      <td>142824.49</td>\n",
       "    </tr>\n",
       "    <tr>\n",
       "      <th>1997-05-01</th>\n",
       "      <td>2895</td>\n",
       "      <td>7275</td>\n",
       "      <td>107933.30</td>\n",
       "    </tr>\n",
       "    <tr>\n",
       "      <th>1997-06-01</th>\n",
       "      <td>3054</td>\n",
       "      <td>7301</td>\n",
       "      <td>108395.87</td>\n",
       "    </tr>\n",
       "    <tr>\n",
       "      <th>1997-07-01</th>\n",
       "      <td>2942</td>\n",
       "      <td>8131</td>\n",
       "      <td>122078.88</td>\n",
       "    </tr>\n",
       "    <tr>\n",
       "      <th>1997-08-01</th>\n",
       "      <td>2320</td>\n",
       "      <td>5851</td>\n",
       "      <td>88367.69</td>\n",
       "    </tr>\n",
       "    <tr>\n",
       "      <th>1997-09-01</th>\n",
       "      <td>2296</td>\n",
       "      <td>5729</td>\n",
       "      <td>81948.80</td>\n",
       "    </tr>\n",
       "    <tr>\n",
       "      <th>1997-10-01</th>\n",
       "      <td>2562</td>\n",
       "      <td>6203</td>\n",
       "      <td>89780.77</td>\n",
       "    </tr>\n",
       "    <tr>\n",
       "      <th>1997-11-01</th>\n",
       "      <td>2750</td>\n",
       "      <td>7812</td>\n",
       "      <td>115448.64</td>\n",
       "    </tr>\n",
       "    <tr>\n",
       "      <th>1997-12-01</th>\n",
       "      <td>2504</td>\n",
       "      <td>6418</td>\n",
       "      <td>95577.35</td>\n",
       "    </tr>\n",
       "    <tr>\n",
       "      <th>1998-01-01</th>\n",
       "      <td>2032</td>\n",
       "      <td>5278</td>\n",
       "      <td>76756.78</td>\n",
       "    </tr>\n",
       "    <tr>\n",
       "      <th>1998-02-01</th>\n",
       "      <td>2026</td>\n",
       "      <td>5340</td>\n",
       "      <td>77096.96</td>\n",
       "    </tr>\n",
       "    <tr>\n",
       "      <th>1998-03-01</th>\n",
       "      <td>2793</td>\n",
       "      <td>7431</td>\n",
       "      <td>108970.15</td>\n",
       "    </tr>\n",
       "    <tr>\n",
       "      <th>1998-04-01</th>\n",
       "      <td>1878</td>\n",
       "      <td>4697</td>\n",
       "      <td>66231.52</td>\n",
       "    </tr>\n",
       "    <tr>\n",
       "      <th>1998-05-01</th>\n",
       "      <td>1985</td>\n",
       "      <td>4903</td>\n",
       "      <td>70989.66</td>\n",
       "    </tr>\n",
       "    <tr>\n",
       "      <th>1998-06-01</th>\n",
       "      <td>2043</td>\n",
       "      <td>5287</td>\n",
       "      <td>76109.30</td>\n",
       "    </tr>\n",
       "  </tbody>\n",
       "</table>\n",
       "</div>"
      ],
      "text/plain": [
       "             用户ID    订单数         金额\n",
       "月份                                 \n",
       "1997-01-01   8928  19416  299060.17\n",
       "1997-02-01  11272  24921  379590.03\n",
       "1997-03-01  11598  26159  393155.27\n",
       "1997-04-01   3781   9729  142824.49\n",
       "1997-05-01   2895   7275  107933.30\n",
       "1997-06-01   3054   7301  108395.87\n",
       "1997-07-01   2942   8131  122078.88\n",
       "1997-08-01   2320   5851   88367.69\n",
       "1997-09-01   2296   5729   81948.80\n",
       "1997-10-01   2562   6203   89780.77\n",
       "1997-11-01   2750   7812  115448.64\n",
       "1997-12-01   2504   6418   95577.35\n",
       "1998-01-01   2032   5278   76756.78\n",
       "1998-02-01   2026   5340   77096.96\n",
       "1998-03-01   2793   7431  108970.15\n",
       "1998-04-01   1878   4697   66231.52\n",
       "1998-05-01   1985   4903   70989.66\n",
       "1998-06-01   2043   5287   76109.30"
      ]
     },
     "execution_count": 11,
     "metadata": {},
     "output_type": "execute_result"
    }
   ],
   "source": [
    "data_pivot"
   ]
  },
  {
   "cell_type": "markdown",
   "metadata": {},
   "source": [
    "每月产生的总订单数"
   ]
  },
  {
   "cell_type": "code",
   "execution_count": 12,
   "metadata": {},
   "outputs": [
    {
     "data": {
      "text/plain": [
       "Text(0, 0.5, '订单数')"
      ]
     },
     "execution_count": 12,
     "metadata": {},
     "output_type": "execute_result"
    },
    {
     "data": {
      "image/png": "[encoded data removed]",
      "text/plain": [
       "<Figure size 432x288 with 1 Axes>"
      ]
     },
     "metadata": {},
     "output_type": "display_data"
    }
   ],
   "source": [
    "plt.plot(data_pivot['订单数'])\n",
    "plt.title('每月产生的总订单数曲线图')\n",
    "plt.xlabel('月份')\n",
    "plt.ylabel('订单数')"
   ]
  },
  {
   "cell_type": "markdown",
   "metadata": {},
   "source": [
    "每月产生的总消费金额"
   ]
  },
  {
   "cell_type": "code",
   "execution_count": 13,
   "metadata": {},
   "outputs": [
    {
     "data": {
      "text/plain": [
       "Text(0, 0.5, '美元')"
      ]
     },
     "execution_count": 13,
     "metadata": {},
     "output_type": "execute_result"
    },
    {
     "data": {
      "image/png": "[encoded data removed]",
      "text/plain": [
       "<Figure size 432x288 with 1 Axes>"
      ]
     },
     "metadata": {},
     "output_type": "display_data"
    }
   ],
   "source": [
    "plt.plot(data_pivot['金额'])\n",
    "plt.title('每月产生的总消费金额曲线图')\n",
    "plt.xlabel('月份')\n",
    "plt.ylabel('美元')"
   ]
  },
  {
   "cell_type": "markdown",
   "metadata": {},
   "source": [
    "每月消费的总人数"
   ]
  },
  {
   "cell_type": "code",
   "execution_count": 14,
   "metadata": {},
   "outputs": [
    {
     "data": {
      "text/plain": [
       "Text(0, 0.5, '人')"
      ]
     },
     "execution_count": 14,
     "metadata": {},
     "output_type": "execute_result"
    },
    {
     "data": {
      "image/png": "[encoded data removed]",
      "text/plain": [
       "<Figure size 432x288 with 1 Axes>"
      ]
     },
     "metadata": {},
     "output_type": "display_data"
    }
   ],
   "source": [
    "plt.plot(data_pivot['用户ID'])\n",
    "plt.title('每月消费的总人数曲线图')\n",
    "plt.xlabel('月份')\n",
    "plt.ylabel('人')"
   ]
  },
  {
   "cell_type": "code",
   "execution_count": 15,
   "metadata": {},
   "outputs": [],
   "source": [
    "data_pivot['每月平均每人产生的订单数'] = data_pivot['订单数']/data_pivot['用户ID']"
   ]
  },
  {
   "cell_type": "code",
   "execution_count": 16,
   "metadata": {},
   "outputs": [
    {
     "data": {
      "text/html": [
       "<div>\n",
       "<style scoped>\n",
       "    .dataframe tbody tr th:only-of-type {\n",
       "        vertical-align: middle;\n",
       "    }\n",
       "\n",
       "    .dataframe tbody tr th {\n",
       "        vertical-align: top;\n",
       "    }\n",
       "\n",
       "    .dataframe thead th {\n",
       "        text-align: right;\n",
       "    }\n",
       "</style>\n",
       "<table border=\"1\" class=\"dataframe\">\n",
       "  <thead>\n",
       "    <tr style=\"text-align: right;\">\n",
       "      <th></th>\n",
       "      <th>用户ID</th>\n",
       "      <th>订单数</th>\n",
       "      <th>金额</th>\n",
       "      <th>每月平均每人产生的订单数</th>\n",
       "    </tr>\n",
       "    <tr>\n",
       "      <th>月份</th>\n",
       "      <th></th>\n",
       "      <th></th>\n",
       "      <th></th>\n",
       "      <th></th>\n",
       "    </tr>\n",
       "  </thead>\n",
       "  <tbody>\n",
       "    <tr>\n",
       "      <th>1997-01-01</th>\n",
       "      <td>8928</td>\n",
       "      <td>19416</td>\n",
       "      <td>299060.17</td>\n",
       "      <td>2.174731</td>\n",
       "    </tr>\n",
       "    <tr>\n",
       "      <th>1997-02-01</th>\n",
       "      <td>11272</td>\n",
       "      <td>24921</td>\n",
       "      <td>379590.03</td>\n",
       "      <td>2.210877</td>\n",
       "    </tr>\n",
       "    <tr>\n",
       "      <th>1997-03-01</th>\n",
       "      <td>11598</td>\n",
       "      <td>26159</td>\n",
       "      <td>393155.27</td>\n",
       "      <td>2.255475</td>\n",
       "    </tr>\n",
       "    <tr>\n",
       "      <th>1997-04-01</th>\n",
       "      <td>3781</td>\n",
       "      <td>9729</td>\n",
       "      <td>142824.49</td>\n",
       "      <td>2.573129</td>\n",
       "    </tr>\n",
       "    <tr>\n",
       "      <th>1997-05-01</th>\n",
       "      <td>2895</td>\n",
       "      <td>7275</td>\n",
       "      <td>107933.30</td>\n",
       "      <td>2.512953</td>\n",
       "    </tr>\n",
       "    <tr>\n",
       "      <th>1997-06-01</th>\n",
       "      <td>3054</td>\n",
       "      <td>7301</td>\n",
       "      <td>108395.87</td>\n",
       "      <td>2.390635</td>\n",
       "    </tr>\n",
       "    <tr>\n",
       "      <th>1997-07-01</th>\n",
       "      <td>2942</td>\n",
       "      <td>8131</td>\n",
       "      <td>122078.88</td>\n",
       "      <td>2.763766</td>\n",
       "    </tr>\n",
       "    <tr>\n",
       "      <th>1997-08-01</th>\n",
       "      <td>2320</td>\n",
       "      <td>5851</td>\n",
       "      <td>88367.69</td>\n",
       "      <td>2.521983</td>\n",
       "    </tr>\n",
       "    <tr>\n",
       "      <th>1997-09-01</th>\n",
       "      <td>2296</td>\n",
       "      <td>5729</td>\n",
       "      <td>81948.80</td>\n",
       "      <td>2.495209</td>\n",
       "    </tr>\n",
       "    <tr>\n",
       "      <th>1997-10-01</th>\n",
       "      <td>2562</td>\n",
       "      <td>6203</td>\n",
       "      <td>89780.77</td>\n",
       "      <td>2.421155</td>\n",
       "    </tr>\n",
       "    <tr>\n",
       "      <th>1997-11-01</th>\n",
       "      <td>2750</td>\n",
       "      <td>7812</td>\n",
       "      <td>115448.64</td>\n",
       "      <td>2.840727</td>\n",
       "    </tr>\n",
       "    <tr>\n",
       "      <th>1997-12-01</th>\n",
       "      <td>2504</td>\n",
       "      <td>6418</td>\n",
       "      <td>95577.35</td>\n",
       "      <td>2.563099</td>\n",
       "    </tr>\n",
       "    <tr>\n",
       "      <th>1998-01-01</th>\n",
       "      <td>2032</td>\n",
       "      <td>5278</td>\n",
       "      <td>76756.78</td>\n",
       "      <td>2.597441</td>\n",
       "    </tr>\n",
       "    <tr>\n",
       "      <th>1998-02-01</th>\n",
       "      <td>2026</td>\n",
       "      <td>5340</td>\n",
       "      <td>77096.96</td>\n",
       "      <td>2.635735</td>\n",
       "    </tr>\n",
       "    <tr>\n",
       "      <th>1998-03-01</th>\n",
       "      <td>2793</td>\n",
       "      <td>7431</td>\n",
       "      <td>108970.15</td>\n",
       "      <td>2.660580</td>\n",
       "    </tr>\n",
       "    <tr>\n",
       "      <th>1998-04-01</th>\n",
       "      <td>1878</td>\n",
       "      <td>4697</td>\n",
       "      <td>66231.52</td>\n",
       "      <td>2.501065</td>\n",
       "    </tr>\n",
       "    <tr>\n",
       "      <th>1998-05-01</th>\n",
       "      <td>1985</td>\n",
       "      <td>4903</td>\n",
       "      <td>70989.66</td>\n",
       "      <td>2.470025</td>\n",
       "    </tr>\n",
       "    <tr>\n",
       "      <th>1998-06-01</th>\n",
       "      <td>2043</td>\n",
       "      <td>5287</td>\n",
       "      <td>76109.30</td>\n",
       "      <td>2.587861</td>\n",
       "    </tr>\n",
       "  </tbody>\n",
       "</table>\n",
       "</div>"
      ],
      "text/plain": [
       "             用户ID    订单数         金额  每月平均每人产生的订单数\n",
       "月份                                               \n",
       "1997-01-01   8928  19416  299060.17      2.174731\n",
       "1997-02-01  11272  24921  379590.03      2.210877\n",
       "1997-03-01  11598  26159  393155.27      2.255475\n",
       "1997-04-01   3781   9729  142824.49      2.573129\n",
       "1997-05-01   2895   7275  107933.30      2.512953\n",
       "1997-06-01   3054   7301  108395.87      2.390635\n",
       "1997-07-01   2942   8131  122078.88      2.763766\n",
       "1997-08-01   2320   5851   88367.69      2.521983\n",
       "1997-09-01   2296   5729   81948.80      2.495209\n",
       "1997-10-01   2562   6203   89780.77      2.421155\n",
       "1997-11-01   2750   7812  115448.64      2.840727\n",
       "1997-12-01   2504   6418   95577.35      2.563099\n",
       "1998-01-01   2032   5278   76756.78      2.597441\n",
       "1998-02-01   2026   5340   77096.96      2.635735\n",
       "1998-03-01   2793   7431  108970.15      2.660580\n",
       "1998-04-01   1878   4697   66231.52      2.501065\n",
       "1998-05-01   1985   4903   70989.66      2.470025\n",
       "1998-06-01   2043   5287   76109.30      2.587861"
      ]
     },
     "execution_count": 16,
     "metadata": {},
     "output_type": "execute_result"
    }
   ],
   "source": [
    "data_pivot"
   ]
  },
  {
   "cell_type": "code",
   "execution_count": 17,
   "metadata": {},
   "outputs": [
    {
     "data": {
      "text/plain": [
       "Text(0, 0.5, '订单数')"
      ]
     },
     "execution_count": 17,
     "metadata": {},
     "output_type": "execute_result"
    },
    {
     "data": {
      "image/png": "[encoded data removed]",
      "text/plain": [
       "<Figure size 432x288 with 1 Axes>"
      ]
     },
     "metadata": {},
     "output_type": "display_data"
    }
   ],
   "source": [
    "plt.plot(data_pivot['每月平均每人产生的订单数'])\n",
    "plt.title('每月平均每人产生的订单数曲线图')\n",
    "plt.xlabel('月份')\n",
    "plt.ylabel('订单数')"
   ]
  },
  {
   "cell_type": "code",
   "execution_count": 18,
   "metadata": {},
   "outputs": [
    {
     "data": {
      "text/html": [
       "<div>\n",
       "<style scoped>\n",
       "    .dataframe tbody tr th:only-of-type {\n",
       "        vertical-align: middle;\n",
       "    }\n",
       "\n",
       "    .dataframe tbody tr th {\n",
       "        vertical-align: top;\n",
       "    }\n",
       "\n",
       "    .dataframe thead th {\n",
       "        text-align: right;\n",
       "    }\n",
       "</style>\n",
       "<table border=\"1\" class=\"dataframe\">\n",
       "  <thead>\n",
       "    <tr style=\"text-align: right;\">\n",
       "      <th></th>\n",
       "      <th>用户ID</th>\n",
       "      <th>订单数</th>\n",
       "      <th>金额</th>\n",
       "      <th>每月平均每人产生的订单数</th>\n",
       "      <th>每月平均每人产生的消费金额</th>\n",
       "    </tr>\n",
       "    <tr>\n",
       "      <th>月份</th>\n",
       "      <th></th>\n",
       "      <th></th>\n",
       "      <th></th>\n",
       "      <th></th>\n",
       "      <th></th>\n",
       "    </tr>\n",
       "  </thead>\n",
       "  <tbody>\n",
       "    <tr>\n",
       "      <th>1997-01-01</th>\n",
       "      <td>8928</td>\n",
       "      <td>19416</td>\n",
       "      <td>299060.17</td>\n",
       "      <td>2.174731</td>\n",
       "      <td>33.496883</td>\n",
       "    </tr>\n",
       "    <tr>\n",
       "      <th>1997-02-01</th>\n",
       "      <td>11272</td>\n",
       "      <td>24921</td>\n",
       "      <td>379590.03</td>\n",
       "      <td>2.210877</td>\n",
       "      <td>33.675482</td>\n",
       "    </tr>\n",
       "    <tr>\n",
       "      <th>1997-03-01</th>\n",
       "      <td>11598</td>\n",
       "      <td>26159</td>\n",
       "      <td>393155.27</td>\n",
       "      <td>2.255475</td>\n",
       "      <td>33.898540</td>\n",
       "    </tr>\n",
       "    <tr>\n",
       "      <th>1997-04-01</th>\n",
       "      <td>3781</td>\n",
       "      <td>9729</td>\n",
       "      <td>142824.49</td>\n",
       "      <td>2.573129</td>\n",
       "      <td>37.774263</td>\n",
       "    </tr>\n",
       "    <tr>\n",
       "      <th>1997-05-01</th>\n",
       "      <td>2895</td>\n",
       "      <td>7275</td>\n",
       "      <td>107933.30</td>\n",
       "      <td>2.512953</td>\n",
       "      <td>37.282660</td>\n",
       "    </tr>\n",
       "    <tr>\n",
       "      <th>1997-06-01</th>\n",
       "      <td>3054</td>\n",
       "      <td>7301</td>\n",
       "      <td>108395.87</td>\n",
       "      <td>2.390635</td>\n",
       "      <td>35.493081</td>\n",
       "    </tr>\n",
       "    <tr>\n",
       "      <th>1997-07-01</th>\n",
       "      <td>2942</td>\n",
       "      <td>8131</td>\n",
       "      <td>122078.88</td>\n",
       "      <td>2.763766</td>\n",
       "      <td>41.495201</td>\n",
       "    </tr>\n",
       "    <tr>\n",
       "      <th>1997-08-01</th>\n",
       "      <td>2320</td>\n",
       "      <td>5851</td>\n",
       "      <td>88367.69</td>\n",
       "      <td>2.521983</td>\n",
       "      <td>38.089522</td>\n",
       "    </tr>\n",
       "    <tr>\n",
       "      <th>1997-09-01</th>\n",
       "      <td>2296</td>\n",
       "      <td>5729</td>\n",
       "      <td>81948.80</td>\n",
       "      <td>2.495209</td>\n",
       "      <td>35.691986</td>\n",
       "    </tr>\n",
       "    <tr>\n",
       "      <th>1997-10-01</th>\n",
       "      <td>2562</td>\n",
       "      <td>6203</td>\n",
       "      <td>89780.77</td>\n",
       "      <td>2.421155</td>\n",
       "      <td>35.043236</td>\n",
       "    </tr>\n",
       "    <tr>\n",
       "      <th>1997-11-01</th>\n",
       "      <td>2750</td>\n",
       "      <td>7812</td>\n",
       "      <td>115448.64</td>\n",
       "      <td>2.840727</td>\n",
       "      <td>41.981324</td>\n",
       "    </tr>\n",
       "    <tr>\n",
       "      <th>1997-12-01</th>\n",
       "      <td>2504</td>\n",
       "      <td>6418</td>\n",
       "      <td>95577.35</td>\n",
       "      <td>2.563099</td>\n",
       "      <td>38.169868</td>\n",
       "    </tr>\n",
       "    <tr>\n",
       "      <th>1998-01-01</th>\n",
       "      <td>2032</td>\n",
       "      <td>5278</td>\n",
       "      <td>76756.78</td>\n",
       "      <td>2.597441</td>\n",
       "      <td>37.774006</td>\n",
       "    </tr>\n",
       "    <tr>\n",
       "      <th>1998-02-01</th>\n",
       "      <td>2026</td>\n",
       "      <td>5340</td>\n",
       "      <td>77096.96</td>\n",
       "      <td>2.635735</td>\n",
       "      <td>38.053781</td>\n",
       "    </tr>\n",
       "    <tr>\n",
       "      <th>1998-03-01</th>\n",
       "      <td>2793</td>\n",
       "      <td>7431</td>\n",
       "      <td>108970.15</td>\n",
       "      <td>2.660580</td>\n",
       "      <td>39.015449</td>\n",
       "    </tr>\n",
       "    <tr>\n",
       "      <th>1998-04-01</th>\n",
       "      <td>1878</td>\n",
       "      <td>4697</td>\n",
       "      <td>66231.52</td>\n",
       "      <td>2.501065</td>\n",
       "      <td>35.267050</td>\n",
       "    </tr>\n",
       "    <tr>\n",
       "      <th>1998-05-01</th>\n",
       "      <td>1985</td>\n",
       "      <td>4903</td>\n",
       "      <td>70989.66</td>\n",
       "      <td>2.470025</td>\n",
       "      <td>35.763053</td>\n",
       "    </tr>\n",
       "    <tr>\n",
       "      <th>1998-06-01</th>\n",
       "      <td>2043</td>\n",
       "      <td>5287</td>\n",
       "      <td>76109.30</td>\n",
       "      <td>2.587861</td>\n",
       "      <td>37.253696</td>\n",
       "    </tr>\n",
       "  </tbody>\n",
       "</table>\n",
       "</div>"
      ],
      "text/plain": [
       "             用户ID    订单数         金额  每月平均每人产生的订单数  每月平均每人产生的消费金额\n",
       "月份                                                              \n",
       "1997-01-01   8928  19416  299060.17      2.174731      33.496883\n",
       "1997-02-01  11272  24921  379590.03      2.210877      33.675482\n",
       "1997-03-01  11598  26159  393155.27      2.255475      33.898540\n",
       "1997-04-01   3781   9729  142824.49      2.573129      37.774263\n",
       "1997-05-01   2895   7275  107933.30      2.512953      37.282660\n",
       "1997-06-01   3054   7301  108395.87      2.390635      35.493081\n",
       "1997-07-01   2942   8131  122078.88      2.763766      41.495201\n",
       "1997-08-01   2320   5851   88367.69      2.521983      38.089522\n",
       "1997-09-01   2296   5729   81948.80      2.495209      35.691986\n",
       "1997-10-01   2562   6203   89780.77      2.421155      35.043236\n",
       "1997-11-01   2750   7812  115448.64      2.840727      41.981324\n",
       "1997-12-01   2504   6418   95577.35      2.563099      38.169868\n",
       "1998-01-01   2032   5278   76756.78      2.597441      37.774006\n",
       "1998-02-01   2026   5340   77096.96      2.635735      38.053781\n",
       "1998-03-01   2793   7431  108970.15      2.660580      39.015449\n",
       "1998-04-01   1878   4697   66231.52      2.501065      35.267050\n",
       "1998-05-01   1985   4903   70989.66      2.470025      35.763053\n",
       "1998-06-01   2043   5287   76109.30      2.587861      37.253696"
      ]
     },
     "execution_count": 18,
     "metadata": {},
     "output_type": "execute_result"
    }
   ],
   "source": [
    "data_pivot['每月平均每人产生的消费金额'] = data_pivot['金额']/data_pivot['用户ID']\n",
    "data_pivot"
   ]
  },
  {
   "cell_type": "code",
   "execution_count": 19,
   "metadata": {},
   "outputs": [
    {
     "data": {
      "text/plain": [
       "Text(0, 0.5, '金额')"
      ]
     },
     "execution_count": 19,
     "metadata": {},
     "output_type": "execute_result"
    },
    {
     "data": {
      "image/png": "[encoded data removed]",
      "text/plain": [
       "<Figure size 432x288 with 1 Axes>"
      ]
     },
     "metadata": {},
     "output_type": "display_data"
    }
   ],
   "source": [
    "plt.plot(data_pivot['每月平均每人产生的消费金额'])\n",
    "plt.title('每月平均每人产生的消费金额曲线图')\n",
    "plt.xlabel('月份')\n",
    "plt.ylabel('金额')"
   ]
  },
  {
   "cell_type": "markdown",
   "metadata": {},
   "source": [
    "修改列名"
   ]
  },
  {
   "cell_type": "code",
   "execution_count": 20,
   "metadata": {},
   "outputs": [],
   "source": [
    "data_pivot.rename(\n",
    "    columns = {\n",
    "        '用户ID':'每月消费的总人数',\n",
    "        '订单数':'每月产生的总订单数',\n",
    "        '金额':'每月产生的总消费金额'\n",
    "    },\n",
    "    inplace = True)"
   ]
  },
  {
   "cell_type": "code",
   "execution_count": 21,
   "metadata": {},
   "outputs": [
    {
     "data": {
      "text/html": [
       "<div>\n",
       "<style scoped>\n",
       "    .dataframe tbody tr th:only-of-type {\n",
       "        vertical-align: middle;\n",
       "    }\n",
       "\n",
       "    .dataframe tbody tr th {\n",
       "        vertical-align: top;\n",
       "    }\n",
       "\n",
       "    .dataframe thead th {\n",
       "        text-align: right;\n",
       "    }\n",
       "</style>\n",
       "<table border=\"1\" class=\"dataframe\">\n",
       "  <thead>\n",
       "    <tr style=\"text-align: right;\">\n",
       "      <th></th>\n",
       "      <th>每月消费的总人数</th>\n",
       "      <th>每月产生的总订单数</th>\n",
       "      <th>每月产生的总消费金额</th>\n",
       "      <th>每月平均每人产生的订单数</th>\n",
       "      <th>每月平均每人产生的消费金额</th>\n",
       "    </tr>\n",
       "    <tr>\n",
       "      <th>月份</th>\n",
       "      <th></th>\n",
       "      <th></th>\n",
       "      <th></th>\n",
       "      <th></th>\n",
       "      <th></th>\n",
       "    </tr>\n",
       "  </thead>\n",
       "  <tbody>\n",
       "    <tr>\n",
       "      <th>1997-01-01</th>\n",
       "      <td>8928</td>\n",
       "      <td>19416</td>\n",
       "      <td>299060.17</td>\n",
       "      <td>2.174731</td>\n",
       "      <td>33.496883</td>\n",
       "    </tr>\n",
       "    <tr>\n",
       "      <th>1997-02-01</th>\n",
       "      <td>11272</td>\n",
       "      <td>24921</td>\n",
       "      <td>379590.03</td>\n",
       "      <td>2.210877</td>\n",
       "      <td>33.675482</td>\n",
       "    </tr>\n",
       "    <tr>\n",
       "      <th>1997-03-01</th>\n",
       "      <td>11598</td>\n",
       "      <td>26159</td>\n",
       "      <td>393155.27</td>\n",
       "      <td>2.255475</td>\n",
       "      <td>33.898540</td>\n",
       "    </tr>\n",
       "    <tr>\n",
       "      <th>1997-04-01</th>\n",
       "      <td>3781</td>\n",
       "      <td>9729</td>\n",
       "      <td>142824.49</td>\n",
       "      <td>2.573129</td>\n",
       "      <td>37.774263</td>\n",
       "    </tr>\n",
       "    <tr>\n",
       "      <th>1997-05-01</th>\n",
       "      <td>2895</td>\n",
       "      <td>7275</td>\n",
       "      <td>107933.30</td>\n",
       "      <td>2.512953</td>\n",
       "      <td>37.282660</td>\n",
       "    </tr>\n",
       "    <tr>\n",
       "      <th>1997-06-01</th>\n",
       "      <td>3054</td>\n",
       "      <td>7301</td>\n",
       "      <td>108395.87</td>\n",
       "      <td>2.390635</td>\n",
       "      <td>35.493081</td>\n",
       "    </tr>\n",
       "    <tr>\n",
       "      <th>1997-07-01</th>\n",
       "      <td>2942</td>\n",
       "      <td>8131</td>\n",
       "      <td>122078.88</td>\n",
       "      <td>2.763766</td>\n",
       "      <td>41.495201</td>\n",
       "    </tr>\n",
       "    <tr>\n",
       "      <th>1997-08-01</th>\n",
       "      <td>2320</td>\n",
       "      <td>5851</td>\n",
       "      <td>88367.69</td>\n",
       "      <td>2.521983</td>\n",
       "      <td>38.089522</td>\n",
       "    </tr>\n",
       "    <tr>\n",
       "      <th>1997-09-01</th>\n",
       "      <td>2296</td>\n",
       "      <td>5729</td>\n",
       "      <td>81948.80</td>\n",
       "      <td>2.495209</td>\n",
       "      <td>35.691986</td>\n",
       "    </tr>\n",
       "    <tr>\n",
       "      <th>1997-10-01</th>\n",
       "      <td>2562</td>\n",
       "      <td>6203</td>\n",
       "      <td>89780.77</td>\n",
       "      <td>2.421155</td>\n",
       "      <td>35.043236</td>\n",
       "    </tr>\n",
       "    <tr>\n",
       "      <th>1997-11-01</th>\n",
       "      <td>2750</td>\n",
       "      <td>7812</td>\n",
       "      <td>115448.64</td>\n",
       "      <td>2.840727</td>\n",
       "      <td>41.981324</td>\n",
       "    </tr>\n",
       "    <tr>\n",
       "      <th>1997-12-01</th>\n",
       "      <td>2504</td>\n",
       "      <td>6418</td>\n",
       "      <td>95577.35</td>\n",
       "      <td>2.563099</td>\n",
       "      <td>38.169868</td>\n",
       "    </tr>\n",
       "    <tr>\n",
       "      <th>1998-01-01</th>\n",
       "      <td>2032</td>\n",
       "      <td>5278</td>\n",
       "      <td>76756.78</td>\n",
       "      <td>2.597441</td>\n",
       "      <td>37.774006</td>\n",
       "    </tr>\n",
       "    <tr>\n",
       "      <th>1998-02-01</th>\n",
       "      <td>2026</td>\n",
       "      <td>5340</td>\n",
       "      <td>77096.96</td>\n",
       "      <td>2.635735</td>\n",
       "      <td>38.053781</td>\n",
       "    </tr>\n",
       "    <tr>\n",
       "      <th>1998-03-01</th>\n",
       "      <td>2793</td>\n",
       "      <td>7431</td>\n",
       "      <td>108970.15</td>\n",
       "      <td>2.660580</td>\n",
       "      <td>39.015449</td>\n",
       "    </tr>\n",
       "    <tr>\n",
       "      <th>1998-04-01</th>\n",
       "      <td>1878</td>\n",
       "      <td>4697</td>\n",
       "      <td>66231.52</td>\n",
       "      <td>2.501065</td>\n",
       "      <td>35.267050</td>\n",
       "    </tr>\n",
       "    <tr>\n",
       "      <th>1998-05-01</th>\n",
       "      <td>1985</td>\n",
       "      <td>4903</td>\n",
       "      <td>70989.66</td>\n",
       "      <td>2.470025</td>\n",
       "      <td>35.763053</td>\n",
       "    </tr>\n",
       "    <tr>\n",
       "      <th>1998-06-01</th>\n",
       "      <td>2043</td>\n",
       "      <td>5287</td>\n",
       "      <td>76109.30</td>\n",
       "      <td>2.587861</td>\n",
       "      <td>37.253696</td>\n",
       "    </tr>\n",
       "  </tbody>\n",
       "</table>\n",
       "</div>"
      ],
      "text/plain": [
       "            每月消费的总人数  每月产生的总订单数  每月产生的总消费金额  每月平均每人产生的订单数  每月平均每人产生的消费金额\n",
       "月份                                                                      \n",
       "1997-01-01      8928      19416   299060.17      2.174731      33.496883\n",
       "1997-02-01     11272      24921   379590.03      2.210877      33.675482\n",
       "1997-03-01     11598      26159   393155.27      2.255475      33.898540\n",
       "1997-04-01      3781       9729   142824.49      2.573129      37.774263\n",
       "1997-05-01      2895       7275   107933.30      2.512953      37.282660\n",
       "1997-06-01      3054       7301   108395.87      2.390635      35.493081\n",
       "1997-07-01      2942       8131   122078.88      2.763766      41.495201\n",
       "1997-08-01      2320       5851    88367.69      2.521983      38.089522\n",
       "1997-09-01      2296       5729    81948.80      2.495209      35.691986\n",
       "1997-10-01      2562       6203    89780.77      2.421155      35.043236\n",
       "1997-11-01      2750       7812   115448.64      2.840727      41.981324\n",
       "1997-12-01      2504       6418    95577.35      2.563099      38.169868\n",
       "1998-01-01      2032       5278    76756.78      2.597441      37.774006\n",
       "1998-02-01      2026       5340    77096.96      2.635735      38.053781\n",
       "1998-03-01      2793       7431   108970.15      2.660580      39.015449\n",
       "1998-04-01      1878       4697    66231.52      2.501065      35.267050\n",
       "1998-05-01      1985       4903    70989.66      2.470025      35.763053\n",
       "1998-06-01      2043       5287    76109.30      2.587861      37.253696"
      ]
     },
     "execution_count": 21,
     "metadata": {},
     "output_type": "execute_result"
    }
   ],
   "source": [
    "data_pivot"
   ]
  },
  {
   "cell_type": "markdown",
   "metadata": {},
   "source": [
    "用户个体消费行为分析"
   ]
  },
  {
   "cell_type": "code",
   "execution_count": 22,
   "metadata": {},
   "outputs": [
    {
     "data": {
      "text/html": [
       "<div>\n",
       "<style scoped>\n",
       "    .dataframe tbody tr th:only-of-type {\n",
       "        vertical-align: middle;\n",
       "    }\n",
       "\n",
       "    .dataframe tbody tr th {\n",
       "        vertical-align: top;\n",
       "    }\n",
       "\n",
       "    .dataframe thead th {\n",
       "        text-align: right;\n",
       "    }\n",
       "</style>\n",
       "<table border=\"1\" class=\"dataframe\">\n",
       "  <thead>\n",
       "    <tr style=\"text-align: right;\">\n",
       "      <th></th>\n",
       "      <th>用户ID</th>\n",
       "      <th>购买日期</th>\n",
       "      <th>订单数</th>\n",
       "      <th>金额</th>\n",
       "      <th>月份</th>\n",
       "    </tr>\n",
       "  </thead>\n",
       "  <tbody>\n",
       "    <tr>\n",
       "      <th>0</th>\n",
       "      <td>1</td>\n",
       "      <td>1997-01-01</td>\n",
       "      <td>1</td>\n",
       "      <td>11.77</td>\n",
       "      <td>1997-01-01</td>\n",
       "    </tr>\n",
       "    <tr>\n",
       "      <th>1</th>\n",
       "      <td>2</td>\n",
       "      <td>1997-01-12</td>\n",
       "      <td>1</td>\n",
       "      <td>12.00</td>\n",
       "      <td>1997-01-01</td>\n",
       "    </tr>\n",
       "    <tr>\n",
       "      <th>2</th>\n",
       "      <td>2</td>\n",
       "      <td>1997-01-12</td>\n",
       "      <td>5</td>\n",
       "      <td>77.00</td>\n",
       "      <td>1997-01-01</td>\n",
       "    </tr>\n",
       "    <tr>\n",
       "      <th>3</th>\n",
       "      <td>3</td>\n",
       "      <td>1997-01-02</td>\n",
       "      <td>2</td>\n",
       "      <td>20.76</td>\n",
       "      <td>1997-01-01</td>\n",
       "    </tr>\n",
       "    <tr>\n",
       "      <th>4</th>\n",
       "      <td>3</td>\n",
       "      <td>1997-03-30</td>\n",
       "      <td>2</td>\n",
       "      <td>20.76</td>\n",
       "      <td>1997-03-01</td>\n",
       "    </tr>\n",
       "    <tr>\n",
       "      <th>...</th>\n",
       "      <td>...</td>\n",
       "      <td>...</td>\n",
       "      <td>...</td>\n",
       "      <td>...</td>\n",
       "      <td>...</td>\n",
       "    </tr>\n",
       "    <tr>\n",
       "      <th>69654</th>\n",
       "      <td>23568</td>\n",
       "      <td>1997-04-05</td>\n",
       "      <td>4</td>\n",
       "      <td>83.74</td>\n",
       "      <td>1997-04-01</td>\n",
       "    </tr>\n",
       "    <tr>\n",
       "      <th>69655</th>\n",
       "      <td>23568</td>\n",
       "      <td>1997-04-22</td>\n",
       "      <td>1</td>\n",
       "      <td>14.99</td>\n",
       "      <td>1997-04-01</td>\n",
       "    </tr>\n",
       "    <tr>\n",
       "      <th>69656</th>\n",
       "      <td>23569</td>\n",
       "      <td>1997-03-25</td>\n",
       "      <td>2</td>\n",
       "      <td>25.74</td>\n",
       "      <td>1997-03-01</td>\n",
       "    </tr>\n",
       "    <tr>\n",
       "      <th>69657</th>\n",
       "      <td>23570</td>\n",
       "      <td>1997-03-25</td>\n",
       "      <td>3</td>\n",
       "      <td>51.12</td>\n",
       "      <td>1997-03-01</td>\n",
       "    </tr>\n",
       "    <tr>\n",
       "      <th>69658</th>\n",
       "      <td>23570</td>\n",
       "      <td>1997-03-26</td>\n",
       "      <td>2</td>\n",
       "      <td>42.96</td>\n",
       "      <td>1997-03-01</td>\n",
       "    </tr>\n",
       "  </tbody>\n",
       "</table>\n",
       "<p>69659 rows × 5 columns</p>\n",
       "</div>"
      ],
      "text/plain": [
       "        用户ID       购买日期  订单数     金额         月份\n",
       "0          1 1997-01-01    1  11.77 1997-01-01\n",
       "1          2 1997-01-12    1  12.00 1997-01-01\n",
       "2          2 1997-01-12    5  77.00 1997-01-01\n",
       "3          3 1997-01-02    2  20.76 1997-01-01\n",
       "4          3 1997-03-30    2  20.76 1997-03-01\n",
       "...      ...        ...  ...    ...        ...\n",
       "69654  23568 1997-04-05    4  83.74 1997-04-01\n",
       "69655  23568 1997-04-22    1  14.99 1997-04-01\n",
       "69656  23569 1997-03-25    2  25.74 1997-03-01\n",
       "69657  23570 1997-03-25    3  51.12 1997-03-01\n",
       "69658  23570 1997-03-26    2  42.96 1997-03-01\n",
       "\n",
       "[69659 rows x 5 columns]"
      ]
     },
     "execution_count": 22,
     "metadata": {},
     "output_type": "execute_result"
    }
   ],
   "source": [
    "data"
   ]
  },
  {
   "cell_type": "markdown",
   "metadata": {},
   "source": [
    "第一次消费的人数和时间关系图"
   ]
  },
  {
   "cell_type": "code",
   "execution_count": 23,
   "metadata": {},
   "outputs": [],
   "source": [
    "data_min = data.pivot_table(\n",
    "        index='用户ID',\n",
    "    values='购买日期',\n",
    "    aggfunc={\n",
    "        '购买日期':'min'\n",
    "    })"
   ]
  },
  {
   "cell_type": "code",
   "execution_count": 24,
   "metadata": {},
   "outputs": [
    {
     "data": {
      "text/html": [
       "<div>\n",
       "<style scoped>\n",
       "    .dataframe tbody tr th:only-of-type {\n",
       "        vertical-align: middle;\n",
       "    }\n",
       "\n",
       "    .dataframe tbody tr th {\n",
       "        vertical-align: top;\n",
       "    }\n",
       "\n",
       "    .dataframe thead th {\n",
       "        text-align: right;\n",
       "    }\n",
       "</style>\n",
       "<table border=\"1\" class=\"dataframe\">\n",
       "  <thead>\n",
       "    <tr style=\"text-align: right;\">\n",
       "      <th></th>\n",
       "      <th>购买日期</th>\n",
       "    </tr>\n",
       "    <tr>\n",
       "      <th>用户ID</th>\n",
       "      <th></th>\n",
       "    </tr>\n",
       "  </thead>\n",
       "  <tbody>\n",
       "    <tr>\n",
       "      <th>1</th>\n",
       "      <td>1997-01-01</td>\n",
       "    </tr>\n",
       "    <tr>\n",
       "      <th>2</th>\n",
       "      <td>1997-01-12</td>\n",
       "    </tr>\n",
       "    <tr>\n",
       "      <th>3</th>\n",
       "      <td>1997-01-02</td>\n",
       "    </tr>\n",
       "    <tr>\n",
       "      <th>4</th>\n",
       "      <td>1997-01-01</td>\n",
       "    </tr>\n",
       "    <tr>\n",
       "      <th>5</th>\n",
       "      <td>1997-01-01</td>\n",
       "    </tr>\n",
       "    <tr>\n",
       "      <th>...</th>\n",
       "      <td>...</td>\n",
       "    </tr>\n",
       "    <tr>\n",
       "      <th>23566</th>\n",
       "      <td>1997-03-25</td>\n",
       "    </tr>\n",
       "    <tr>\n",
       "      <th>23567</th>\n",
       "      <td>1997-03-25</td>\n",
       "    </tr>\n",
       "    <tr>\n",
       "      <th>23568</th>\n",
       "      <td>1997-03-25</td>\n",
       "    </tr>\n",
       "    <tr>\n",
       "      <th>23569</th>\n",
       "      <td>1997-03-25</td>\n",
       "    </tr>\n",
       "    <tr>\n",
       "      <th>23570</th>\n",
       "      <td>1997-03-25</td>\n",
       "    </tr>\n",
       "  </tbody>\n",
       "</table>\n",
       "<p>23570 rows × 1 columns</p>\n",
       "</div>"
      ],
      "text/plain": [
       "            购买日期\n",
       "用户ID            \n",
       "1     1997-01-01\n",
       "2     1997-01-12\n",
       "3     1997-01-02\n",
       "4     1997-01-01\n",
       "5     1997-01-01\n",
       "...          ...\n",
       "23566 1997-03-25\n",
       "23567 1997-03-25\n",
       "23568 1997-03-25\n",
       "23569 1997-03-25\n",
       "23570 1997-03-25\n",
       "\n",
       "[23570 rows x 1 columns]"
      ]
     },
     "execution_count": 24,
     "metadata": {},
     "output_type": "execute_result"
    }
   ],
   "source": [
    "data_min"
   ]
  },
  {
   "cell_type": "markdown",
   "metadata": {},
   "source": [
    "统计相同日期下第一次消费的用户人数"
   ]
  },
  {
   "cell_type": "code",
   "execution_count": 25,
   "metadata": {},
   "outputs": [
    {
     "data": {
      "text/plain": [
       "1997-02-08    363\n",
       "1997-02-24    347\n",
       "1997-02-04    346\n",
       "1997-02-06    346\n",
       "1997-03-04    340\n",
       "             ... \n",
       "1997-01-08    213\n",
       "1997-03-21    213\n",
       "1997-01-07    211\n",
       "1997-01-01    209\n",
       "1997-01-04    174\n",
       "Name: 购买日期, Length: 84, dtype: int64"
      ]
     },
     "execution_count": 25,
     "metadata": {},
     "output_type": "execute_result"
    }
   ],
   "source": [
    "data_min['购买日期'].value_counts()"
   ]
  },
  {
   "cell_type": "code",
   "execution_count": 26,
   "metadata": {},
   "outputs": [],
   "source": [
    "data_min_count = data_min.iloc[:,0].value_counts()"
   ]
  },
  {
   "cell_type": "code",
   "execution_count": 27,
   "metadata": {},
   "outputs": [
    {
     "data": {
      "text/plain": [
       "1997-02-08    363\n",
       "1997-02-24    347\n",
       "1997-02-04    346\n",
       "1997-02-06    346\n",
       "1997-03-04    340\n",
       "             ... \n",
       "1997-01-08    213\n",
       "1997-03-21    213\n",
       "1997-01-07    211\n",
       "1997-01-01    209\n",
       "1997-01-04    174\n",
       "Name: 购买日期, Length: 84, dtype: int64"
      ]
     },
     "execution_count": 27,
     "metadata": {},
     "output_type": "execute_result"
    }
   ],
   "source": [
    "data_min_count"
   ]
  },
  {
   "cell_type": "code",
   "execution_count": 28,
   "metadata": {},
   "outputs": [
    {
     "data": {
      "text/plain": [
       "[<matplotlib.lines.Line2D at 0x1d6ab2a17f0>]"
      ]
     },
     "execution_count": 28,
     "metadata": {},
     "output_type": "execute_result"
    },
    {
     "data": {
      "image/png": "[encoded data removed]",
      "text/plain": [
       "<Figure size 432x288 with 1 Axes>"
      ]
     },
     "metadata": {},
     "output_type": "display_data"
    }
   ],
   "source": [
    "plt.plot(data_min_count)"
   ]
  },
  {
   "cell_type": "code",
   "execution_count": 29,
   "metadata": {},
   "outputs": [
    {
     "data": {
      "text/plain": [
       "Text(0, 0.5, '人数')"
      ]
     },
     "execution_count": 29,
     "metadata": {},
     "output_type": "execute_result"
    },
    {
     "data": {
      "image/png": "[encoded data removed]",
      "text/plain": [
       "<Figure size 432x288 with 1 Axes>"
      ]
     },
     "metadata": {},
     "output_type": "display_data"
    }
   ],
   "source": [
    "data_min_count.plot()\n",
    "plt.title('第一次消费的人数与时间的关系图')\n",
    "plt.xlabel('日期')\n",
    "plt.ylabel('人数')"
   ]
  },
  {
   "cell_type": "code",
   "execution_count": null,
   "metadata": {},
   "outputs": [],
   "source": []
  }
 ],
 "metadata": {
  "kernelspec": {
   "display_name": "Python 3",
   "language": "python",
   "name": "python3"
  },
  "language_info": {
   "codemirror_mode": {
    "name": "ipython",
    "version": 3
   },
   "file_extension": ".py",
   "mimetype": "text/x-python",
   "name": "python",
   "nbconvert_exporter": "python",
   "pygments_lexer": "ipython3",
   "version": "3.8.5"
  }
 },
 "nbformat": 4,
 "nbformat_minor": 4
}
